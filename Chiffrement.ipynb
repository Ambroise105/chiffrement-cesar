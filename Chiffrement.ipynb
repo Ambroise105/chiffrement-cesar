{
 "cells": [
  {
   "cell_type": "markdown",
   "metadata": {},
   "source": [
    "# Le chiffrement symétrique\n",
    "\n",
    "## Une première approche du chiffrement : le code de César\n",
    "\n",
    "Le code de César est une méthode de chiffrement très simple utilisée par Jules César dans ses correspondances secrètes (ce qui explique le nom « code de César »).\n",
    "\n",
    "Le texte chiffré s'obtient en remplaçant chaque lettre du texte clair original par une lettre à distance fixe, toujours du même côté, dans l'ordre de l'alphabet. Pour les dernières lettres (dans le cas d'un décalage à droite), on reprend au début. Par exemple avec un décalage de 3 vers la droite, A est remplacé par D, B devient E, et ainsi jusqu'à W qui devient Z, puis X devient A etc. Il s'agit d'une permutation circulaire de l'alphabet. La longueur du décalage, 3 dans l'exemple évoqué, constitue la clé du chiffrement qu'il suffit de transmettre au destinataire — s'il sait déjà qu'il s'agit d'un chiffrement de César — pour que celui-ci puisse déchiffrer le message. Dans le cas de l'alphabet latin, le chiffre de César n'a que 26 clés possibles (y compris la clé nulle, qui ne modifie pas le texte).\n",
    "\n",
    "![cesar.png](cesar.png)"
   ]
  },
  {
   "cell_type": "markdown",
   "metadata": {},
   "source": [
    "**Question 1 :** Écrire une fonction qui permet de chiffrer un texte en utilisant la méthode du code de César. On utilisera comme alphabet l'ensemble des caractères contenus dans la table ASCII.\n",
    "\n",
    "**Question 2 :** Écrire une fonction qui permet de déchiffrer un texte chiffré en utilisant la méthode du code de César."
   ]
  },
  {
   "cell_type": "markdown",
   "metadata": {},
   "source": [
    "## Le chiffrement de César, peu fiable ?\n",
    "\n",
    "De part le faible nombre de clé, on peut tenter une attaque par force brute (on tente toutes les clés possibles pour trouver le message original). On peut aussi tenter une attaque plus subtile : une attaque par analyse de fréquence ! Cette attaque consiste à analyser la fréquence d’apparition de chaque caractère.\n",
    "\n",
    "**Question 3 :** Écrire une fonction renvoie un dictionnaire ayant pour clé les caractères présents dans le texte, et pour valeur de ces clés la fréquence d’apparition de ces caractères dans le texte.\n",
    "\n",
    "**Question 4 :** Écrire une fonction qui renvoie la clé ayant la plus grande fréquence d’apparition dans un dictionnaire donné en paramètre.\n",
    "\n",
    "**Question 5 :** Quel est le caractère le plus fréquent dans un texte en français ?\n",
    "\n",
    "**Question 6 :** Écrire une fonction qui permet de trouver la clé de chiffrement ayant servi à chiffrer le message passé en paramètre.\n"
   ]
  },
  {
   "cell_type": "markdown",
   "metadata": {},
   "source": [
    "## Le chiffrement de Vigenère\n",
    "\n",
    "Inspiré du code César, mais un peu plus sécurisé, le code de Vigenère est un autre algorithme de chiffrement. Le code de Vigenère fonctionne ainsi : \n",
    "- on choisit une clé composée de plusieurs nombres\n",
    "- on chiffre le premier caractère en utilisant la même méthode qu’avec le code césar, mais avec le premier nombre de la clé.\n",
    "- on chiffre le deuxième caractère en utilisant la même méthode qu’avec le code césar, mais avec le deuxième nombre de la clé.\n",
    "- …\n",
    "- Arrivé au bout de la clé, on reprend au début de celle-ci.\n"
   ]
  },
  {
   "cell_type": "markdown",
   "metadata": {},
   "source": [
    "**Question 7 :** Écrire une fonction qui permet de chiffrer un texte en utilisant la méthode du code de Vigenère. On utilisera comme alphabet l'ensemble des caractères contenus dans la table ASCII.\n",
    "\n",
    "**Question 8 :** Écrire une fonction qui permet de déchiffrer un texte chiffré en utilisant la méthode du code de Vigenère."
   ]
  }
 ],
 "metadata": {
  "kernelspec": {
   "display_name": "Python 3",
   "language": "python",
   "name": "python3"
  },
  "language_info": {
   "codemirror_mode": {
    "name": "ipython",
    "version": 3
   },
   "file_extension": ".py",
   "mimetype": "text/x-python",
   "name": "python",
   "nbconvert_exporter": "python",
   "pygments_lexer": "ipython3",
   "version": "3.8.5"
  }
 },
 "nbformat": 4,
 "nbformat_minor": 4
}
